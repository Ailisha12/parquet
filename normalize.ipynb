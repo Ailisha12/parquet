{
 "cells": [
  {
   "cell_type": "code",
   "execution_count": 24,
   "metadata": {},
   "outputs": [],
   "source": [
    "import pandas as pd"
   ]
  },
  {
   "cell_type": "code",
   "execution_count": 25,
   "metadata": {},
   "outputs": [],
   "source": [
    "rad = pd.read_csv('Road Accident Data.csv', delimiter=',')\n",
    "wid = pd.read_csv('World Important Dates.csv', delimiter=',')"
   ]
  },
  {
   "cell_type": "code",
   "execution_count": 26,
   "metadata": {},
   "outputs": [],
   "source": [
    "rad.to_parquet('road_accident_data.parquet.gzip',compression='gzip')"
   ]
  },
  {
   "cell_type": "code",
   "execution_count": 27,
   "metadata": {},
   "outputs": [
    {
     "name": "stdout",
     "output_type": "stream",
     "text": [
      "<class 'pandas.core.frame.DataFrame'>\n",
      "RangeIndex: 307973 entries, 0 to 307972\n",
      "Data columns (total 21 columns):\n",
      " #   Column                      Non-Null Count   Dtype  \n",
      "---  ------                      --------------   -----  \n",
      " 0   Accident_Index              307973 non-null  object \n",
      " 1   Accident Date               307973 non-null  object \n",
      " 2   Day_of_Week                 307973 non-null  object \n",
      " 3   Junction_Control            307973 non-null  object \n",
      " 4   Junction_Detail             307973 non-null  object \n",
      " 5   Accident_Severity           307973 non-null  object \n",
      " 6   Latitude                    307973 non-null  float64\n",
      " 7   Light_Conditions            307973 non-null  object \n",
      " 8   Local_Authority_(District)  307973 non-null  object \n",
      " 9   Carriageway_Hazards         5424 non-null    object \n",
      " 10  Longitude                   307973 non-null  float64\n",
      " 11  Number_of_Casualties        307973 non-null  int64  \n",
      " 12  Number_of_Vehicles          307973 non-null  int64  \n",
      " 13  Police_Force                307973 non-null  object \n",
      " 14  Road_Surface_Conditions     307656 non-null  object \n",
      " 15  Road_Type                   306439 non-null  object \n",
      " 16  Speed_limit                 307973 non-null  int64  \n",
      " 17  Time                        307956 non-null  object \n",
      " 18  Urban_or_Rural_Area         307973 non-null  object \n",
      " 19  Weather_Conditions          301916 non-null  object \n",
      " 20  Vehicle_Type                307973 non-null  object \n",
      "dtypes: float64(2), int64(3), object(16)\n",
      "memory usage: 49.3+ MB\n"
     ]
    }
   ],
   "source": [
    "rag_pr = pd.read_parquet('road_accident_data.parquet.gzip')\n",
    "rag_pr.info()"
   ]
  },
  {
   "cell_type": "code",
   "execution_count": 28,
   "metadata": {},
   "outputs": [],
   "source": [
    "wid.to_parquet('world_important_dates.parquet.gzip',compression='gzip')"
   ]
  },
  {
   "cell_type": "code",
   "execution_count": 29,
   "metadata": {},
   "outputs": [
    {
     "name": "stdout",
     "output_type": "stream",
     "text": [
      "<class 'pandas.core.frame.DataFrame'>\n",
      "RangeIndex: 1096 entries, 0 to 1095\n",
      "Data columns (total 12 columns):\n",
      " #   Column                              Non-Null Count  Dtype \n",
      "---  ------                              --------------  ----- \n",
      " 0   Sl. No                              1096 non-null   int64 \n",
      " 1   Name of Incident                    1096 non-null   object\n",
      " 2   Date                                1096 non-null   object\n",
      " 3   Month                               1096 non-null   object\n",
      " 4   Year                                1096 non-null   object\n",
      " 5   Country                             1096 non-null   object\n",
      " 6   Type of Event                       1096 non-null   object\n",
      " 7   Place Name                          1096 non-null   object\n",
      " 8   Impact                              1096 non-null   object\n",
      " 9   Affected Population                 1096 non-null   object\n",
      " 10  Important Person/Group Responsible  1096 non-null   object\n",
      " 11  Outcome                             1096 non-null   object\n",
      "dtypes: int64(1), object(11)\n",
      "memory usage: 102.9+ KB\n"
     ]
    }
   ],
   "source": [
    "wid_pr = pd.read_parquet('world_important_dates.parquet.gzip')\n",
    "wid_pr.info()"
   ]
  },
  {
   "cell_type": "code",
   "execution_count": 30,
   "metadata": {},
   "outputs": [
    {
     "name": "stdout",
     "output_type": "stream",
     "text": [
      "<class 'pandas.core.frame.DataFrame'>\n",
      "RangeIndex: 307973 entries, 0 to 307972\n",
      "Data columns (total 21 columns):\n",
      " #   Column                      Non-Null Count   Dtype  \n",
      "---  ------                      --------------   -----  \n",
      " 0   Accident_Index              307973 non-null  object \n",
      " 1   Accident Date               307973 non-null  object \n",
      " 2   Day_of_Week                 307973 non-null  object \n",
      " 3   Junction_Control            307973 non-null  object \n",
      " 4   Junction_Detail             307973 non-null  object \n",
      " 5   Accident_Severity           307973 non-null  object \n",
      " 6   Latitude                    307973 non-null  float64\n",
      " 7   Light_Conditions            307973 non-null  object \n",
      " 8   Local_Authority_(District)  307973 non-null  object \n",
      " 9   Carriageway_Hazards         5424 non-null    object \n",
      " 10  Longitude                   307973 non-null  float64\n",
      " 11  Number_of_Casualties        307973 non-null  int64  \n",
      " 12  Number_of_Vehicles          307973 non-null  int64  \n",
      " 13  Police_Force                307973 non-null  object \n",
      " 14  Road_Surface_Conditions     307656 non-null  object \n",
      " 15  Road_Type                   306439 non-null  object \n",
      " 16  Speed_limit                 307973 non-null  int64  \n",
      " 17  Time                        307956 non-null  object \n",
      " 18  Urban_or_Rural_Area         307973 non-null  object \n",
      " 19  Weather_Conditions          301916 non-null  object \n",
      " 20  Vehicle_Type                307973 non-null  object \n",
      "dtypes: float64(2), int64(3), object(16)\n",
      "memory usage: 49.3+ MB\n"
     ]
    }
   ],
   "source": [
    "rad.info()"
   ]
  },
  {
   "cell_type": "code",
   "execution_count": 31,
   "metadata": {},
   "outputs": [
    {
     "name": "stdout",
     "output_type": "stream",
     "text": [
      "<class 'pandas.core.frame.DataFrame'>\n",
      "RangeIndex: 1096 entries, 0 to 1095\n",
      "Data columns (total 12 columns):\n",
      " #   Column                              Non-Null Count  Dtype \n",
      "---  ------                              --------------  ----- \n",
      " 0   Sl. No                              1096 non-null   int64 \n",
      " 1   Name of Incident                    1096 non-null   object\n",
      " 2   Date                                1096 non-null   object\n",
      " 3   Month                               1096 non-null   object\n",
      " 4   Year                                1096 non-null   object\n",
      " 5   Country                             1096 non-null   object\n",
      " 6   Type of Event                       1096 non-null   object\n",
      " 7   Place Name                          1096 non-null   object\n",
      " 8   Impact                              1096 non-null   object\n",
      " 9   Affected Population                 1096 non-null   object\n",
      " 10  Important Person/Group Responsible  1096 non-null   object\n",
      " 11  Outcome                             1096 non-null   object\n",
      "dtypes: int64(1), object(11)\n",
      "memory usage: 102.9+ KB\n"
     ]
    }
   ],
   "source": [
    "wid.info()"
   ]
  },
  {
   "cell_type": "code",
   "execution_count": 32,
   "metadata": {},
   "outputs": [],
   "source": [
    "from hdfs import InsecureClient"
   ]
  },
  {
   "cell_type": "code",
   "execution_count": 33,
   "metadata": {},
   "outputs": [],
   "source": [
    "client = InsecureClient('http://127.0.0.1:9870', user='root')"
   ]
  },
  {
   "cell_type": "code",
   "execution_count": 34,
   "metadata": {},
   "outputs": [
    {
     "data": {
      "text/plain": [
       "{'directoryCount': 8,\n",
       " 'fileCount': 1,\n",
       " 'length': 0,\n",
       " 'quota': 9223372036854775807,\n",
       " 'spaceConsumed': 0,\n",
       " 'spaceQuota': -1,\n",
       " 'typeQuota': {}}"
      ]
     },
     "execution_count": 34,
     "metadata": {},
     "output_type": "execute_result"
    }
   ],
   "source": [
    "client.content('/')"
   ]
  },
  {
   "cell_type": "code",
   "execution_count": 35,
   "metadata": {},
   "outputs": [
    {
     "data": {
      "text/plain": [
       "{'accessTime': 0,\n",
       " 'blockSize': 0,\n",
       " 'childrenNum': 0,\n",
       " 'fileId': 16416,\n",
       " 'group': 'supergroup',\n",
       " 'length': 0,\n",
       " 'modificationTime': 1708398595966,\n",
       " 'owner': 'root',\n",
       " 'pathSuffix': '',\n",
       " 'permission': '755',\n",
       " 'replication': 0,\n",
       " 'storagePolicy': 0,\n",
       " 'type': 'DIRECTORY'}"
      ]
     },
     "execution_count": 35,
     "metadata": {},
     "output_type": "execute_result"
    }
   ],
   "source": [
    "client.status('/peretolchin.ius')"
   ]
  },
  {
   "cell_type": "code",
   "execution_count": 36,
   "metadata": {},
   "outputs": [],
   "source": [
    "client.makedirs('/peretolchin.ius')"
   ]
  },
  {
   "cell_type": "code",
   "execution_count": 37,
   "metadata": {},
   "outputs": [
    {
     "data": {
      "text/plain": [
       "True"
      ]
     },
     "execution_count": 37,
     "metadata": {},
     "output_type": "execute_result"
    }
   ],
   "source": [
    "client.delete('/peretolchin.ius', recursive=True)"
   ]
  },
  {
   "cell_type": "code",
   "execution_count": 38,
   "metadata": {},
   "outputs": [
    {
     "data": {
      "text/plain": [
       "['rmstate']"
      ]
     },
     "execution_count": 38,
     "metadata": {},
     "output_type": "execute_result"
    }
   ],
   "source": [
    "client.list('/')"
   ]
  },
  {
   "cell_type": "code",
   "execution_count": 40,
   "metadata": {},
   "outputs": [],
   "source": [
    "hdfs_path = '/peretolchin.ius'\n",
    "local_dir = 'C:\\progs\\KT_3'"
   ]
  },
  {
   "cell_type": "code",
   "execution_count": null,
   "metadata": {},
   "outputs": [],
   "source": [
    "# Writing part of a file.\n",
    "with open(local_dir + '\\\\road_accident_data.parquet.gzip') as reader, client.write(hdfs_path) as writer:\n",
    "  for line in reader:\n",
    "    if line.startswith('-'):\n",
    "      writer.write(line)"
   ]
  },
  {
   "cell_type": "code",
   "execution_count": null,
   "metadata": {},
   "outputs": [],
   "source": [
    "client.download(hdfs_path + '/road_accident_data.parquet.gzip', local_dir + '\\data', overwrite=True, n_threads=1)"
   ]
  }
 ],
 "metadata": {
  "kernelspec": {
   "display_name": ".venv",
   "language": "python",
   "name": "python3"
  },
  "language_info": {
   "codemirror_mode": {
    "name": "ipython",
    "version": 3
   },
   "file_extension": ".py",
   "mimetype": "text/x-python",
   "name": "python",
   "nbconvert_exporter": "python",
   "pygments_lexer": "ipython3",
   "version": "3.11.7"
  }
 },
 "nbformat": 4,
 "nbformat_minor": 2
}
